{
 "cells": [
  {
   "cell_type": "code",
   "execution_count": 15,
   "metadata": {},
   "outputs": [],
   "source": [
    "import numpy as np\n",
    "import torch\n",
    "import torch.nn as nn\n",
    "from torchsummary import summary\n",
    "\n",
    "from moduleZoo.graphs import GraphConv"
   ]
  },
  {
   "cell_type": "code",
   "execution_count": 16,
   "metadata": {},
   "outputs": [],
   "source": [
    "class TargetModel(nn.Module):\n",
    "    def __init__(self, db = False) -> None:\n",
    "        super().__init__()\n",
    "        self.module = GraphConv(128, 256, k=10, dynamic_batching=db)\n",
    "\n",
    "    def enable_dynamic_batching(self) -> None:\n",
    "        self.module.db = True\n",
    "\n",
    "    def forward(self, x:torch.Tensor, n_nodes = None) -> torch.Tensor:\n",
    "        return self.module(x, n_nodes)"
   ]
  },
  {
   "cell_type": "code",
   "execution_count": 17,
   "metadata": {},
   "outputs": [],
   "source": [
    "module = TargetModel(False)"
   ]
  },
  {
   "cell_type": "code",
   "execution_count": 18,
   "metadata": {},
   "outputs": [],
   "source": [
    "module = module.to('cuda')"
   ]
  },
  {
   "cell_type": "code",
   "execution_count": null,
   "metadata": {},
   "outputs": [],
   "source": []
  },
  {
   "cell_type": "code",
   "execution_count": 19,
   "metadata": {},
   "outputs": [
    {
     "name": "stdout",
     "output_type": "stream",
     "text": [
      "data.shape = torch.Size([10, 100, 128])\n"
     ]
    }
   ],
   "source": [
    "data = torch.rand((10, 100, 128), device='cuda')\n",
    "print(f'{data.shape = }')\n",
    "# n_nodes = [1]*(256//2) + [2]*(256//4)\n",
    "# n_nodes = np.array(n_nodes*2)"
   ]
  },
  {
   "cell_type": "code",
   "execution_count": 20,
   "metadata": {},
   "outputs": [
    {
     "name": "stdout",
     "output_type": "stream",
     "text": [
      "Using static forward\n",
      "1: x.shape = torch.Size([10, 100, 128])\n",
      "2: x.shape = torch.Size([10, 100, 10, 256])\n"
     ]
    }
   ],
   "source": [
    "result1 = module(data)"
   ]
  },
  {
   "cell_type": "code",
   "execution_count": 21,
   "metadata": {},
   "outputs": [],
   "source": [
    "module.module.db = True"
   ]
  },
  {
   "cell_type": "code",
   "execution_count": 22,
   "metadata": {},
   "outputs": [],
   "source": [
    "data = data.view((10*100, 128))\n",
    "n_nodes = np.ones((10, ), dtype=np.int16)*100"
   ]
  },
  {
   "cell_type": "code",
   "execution_count": 23,
   "metadata": {},
   "outputs": [
    {
     "name": "stdout",
     "output_type": "stream",
     "text": [
      "Using static dynamic batching.\n",
      "1: x.shape = torch.Size([10, 100, 128])\n",
      "2: x.shape = torch.Size([10, 100, 10, 256])\n"
     ]
    }
   ],
   "source": [
    "result2 = module(data, n_nodes).view((10, 100, 256))"
   ]
  },
  {
   "cell_type": "code",
   "execution_count": 26,
   "metadata": {},
   "outputs": [],
   "source": [
    "module.module.db = False"
   ]
  },
  {
   "cell_type": "code",
   "execution_count": 27,
   "metadata": {},
   "outputs": [
    {
     "name": "stdout",
     "output_type": "stream",
     "text": [
      "Using complete dynamic batching\n"
     ]
    }
   ],
   "source": [
    "result3 = module(data, n_nodes).view((10, 100, 256))"
   ]
  },
  {
   "cell_type": "code",
   "execution_count": 29,
   "metadata": {},
   "outputs": [
    {
     "data": {
      "text/plain": [
       "tensor(True, device='cuda:0')"
      ]
     },
     "execution_count": 29,
     "metadata": {},
     "output_type": "execute_result"
    }
   ],
   "source": [
    "torch.all(result3 == result2)"
   ]
  },
  {
   "cell_type": "code",
   "execution_count": 7,
   "metadata": {},
   "outputs": [
    {
     "data": {
      "text/plain": [
       "torch.Size([10, 100, 256])"
      ]
     },
     "execution_count": 7,
     "metadata": {},
     "output_type": "execute_result"
    }
   ],
   "source": [
    "# torch.all((result1.detach().cpu() - result2.detach().cpu()).abs() < 1e-6)\n",
    "result1.shape"
   ]
  },
  {
   "cell_type": "code",
   "execution_count": 9,
   "metadata": {},
   "outputs": [
    {
     "name": "stdout",
     "output_type": "stream",
     "text": [
      "==========================================================================================\n",
      "Layer (type:depth-idx)                   Output Shape              Param #\n",
      "==========================================================================================\n",
      "├─GraphConv1d: 1-1                       [-1, 500, 256]            --\n",
      "|    └─LinearNormActivation: 2-1         [-1, 500, 10, 256]        --\n",
      "|    |    └─Linear: 3-1                  [-1, 500, 10, 256]        65,792\n",
      "==========================================================================================\n",
      "Total params: 65,792\n",
      "Trainable params: 65,792\n",
      "Non-trainable params: 0\n",
      "Total mult-adds (M): 0.20\n",
      "==========================================================================================\n",
      "Input size (MB): 0.24\n",
      "Forward/backward pass size (MB): 9.77\n",
      "Params size (MB): 0.25\n",
      "Estimated Total Size (MB): 10.26\n",
      "==========================================================================================\n"
     ]
    },
    {
     "data": {
      "text/plain": [
       "==========================================================================================\n",
       "Layer (type:depth-idx)                   Output Shape              Param #\n",
       "==========================================================================================\n",
       "├─GraphConv1d: 1-1                       [-1, 500, 256]            --\n",
       "|    └─LinearNormActivation: 2-1         [-1, 500, 10, 256]        --\n",
       "|    |    └─Linear: 3-1                  [-1, 500, 10, 256]        65,792\n",
       "==========================================================================================\n",
       "Total params: 65,792\n",
       "Trainable params: 65,792\n",
       "Non-trainable params: 0\n",
       "Total mult-adds (M): 0.20\n",
       "==========================================================================================\n",
       "Input size (MB): 0.24\n",
       "Forward/backward pass size (MB): 9.77\n",
       "Params size (MB): 0.25\n",
       "Estimated Total Size (MB): 10.26\n",
       "=========================================================================================="
      ]
     },
     "execution_count": 9,
     "metadata": {},
     "output_type": "execute_result"
    }
   ],
   "source": [
    "summary(module1, [500, 128])"
   ]
  },
  {
   "cell_type": "code",
   "execution_count": 9,
   "metadata": {},
   "outputs": [],
   "source": []
  },
  {
   "cell_type": "code",
   "execution_count": 11,
   "metadata": {},
   "outputs": [
    {
     "data": {
      "text/plain": [
       "tensor([[ 54,  54,  53, 111,  55,  61,  57, 117,  83, 125,  58,  68,  66, 117,\n",
       "          38,  62, 123,  59,  34,  39,  45,  65,  18, 124,  82, 112,  33,  87,\n",
       "          86,  91,  38,  90,  46,  89,  11, 127,  79,   5,  20,  58,  28, 110,\n",
       "          46,  81, 100,  60, 102, 116,  13,  84,  43, 124,  84,  30,  79,  40,\n",
       "          66,  40,  16,  35,  88,  91,  44,  24,  74,  46,   6, 102,  93,  64,\n",
       "          35,  60, 104, 117,  64,   1,  51,  46,  70,  45, 118,  17, 126,  78,\n",
       "           5, 103,  64,  78, 127, 116,  60,  51,  71,  54,  86,  58, 101, 116,\n",
       "          16,  59,  68, 125,  32,  62,  24,  81,  35,  91,  23,  66,  65,  89,\n",
       "          55,  97,  62,  33,  79,  99,  25, 122, 123,  53, 108,  13,  13,  70,\n",
       "         106,  34,  89, 105,   9,   2,  56,  52,  50,  35,  82,  88, 120,  94,\n",
       "          21,  21,   7,  62,  34,  78,  22, 111, 126, 123,  47,  60,  79,  72,\n",
       "          52, 103,  27,  45,  52,  24,  74,   4,  41,   4,  65,  32,   2, 109,\n",
       "          24,  86,  85,  77,  20,  28,  21,  64,  30,  93,  89,  38, 126, 118,\n",
       "          52,  91,  58,  51, 121,  60,  26,  42, 125, 103,  39,  91,  14,  97,\n",
       "          90, 101,  51,  79,   4,  47,  23,   4,   4,   6,  12,  94,  86, 112,\n",
       "          57,   1,  50,  93,   0, 124,  56,  17,  97,  77, 118, 121,  11, 120,\n",
       "          53,   8,  56,  57,  66,  83,  27,  38,  81,  30,  75,  39,  52,  38,\n",
       "          63,  69,  49, 111,  85,  83,  50, 102, 126,   5,  92,  28,  45, 127,\n",
       "          56,   3,  68, 121,  72,  85, 122, 106,  21,  84,  92,  59,  92,  76,\n",
       "          92,  57,  45,  57, 119, 125,  14, 100, 107, 105, 105,  50,  56,  83,\n",
       "          63,  24,  89,  93,  34,  41,  45,  52, 106, 125,   4, 104, 113,  40,\n",
       "         117, 114, 103, 118,  11, 118,  41,   3,  84,  15,  50,  93,  38,   5,\n",
       "          35, 112,  70,  39,  86, 117,  95,  85,  72,  92,  45, 100,   4,   7,\n",
       "          35,  65,  49, 113,  60,  77, 104,  96,  81, 126, 125,  94, 102,  76,\n",
       "          25,  89, 124,  63,  90,  12,  99, 122,  22,  93,  30,  99, 110,  35,\n",
       "          11,  94,  38,  20,  19, 127, 127,  54,  79, 108,  10,  82, 125,  76,\n",
       "          55,  93, 105,  69, 115,   7,  91,   6,  71, 117,  90,  24,  73,  21,\n",
       "          50, 127, 112,  30,  79,  89,  18,   3,  80,   8,  36,  50, 106, 101,\n",
       "           8,  61,  60,  99, 118,   4,  79,  24,  13,  63, 100,  82,  77, 103,\n",
       "         111,  77,  86,  64,  31,  50,  90,  25,   1,  26, 100,  41,  59,  34,\n",
       "          65, 126,  19,  58,  82, 107,  88,  53, 110,   9,  16,  65,  83,   3,\n",
       "         126,   5, 110,  50,   0,  90,  49,   4, 113,  71,  89,   5,  88,  52,\n",
       "         116,  25, 127,  15,  53,  43,  30, 125, 119,  22,  78,  37,   4,  13,\n",
       "          69,  76,  76,  24,  71, 123,  85,  93,  66,  53, 100,  49, 101,  21,\n",
       "         109,  37,  20,  50,  79,   6,   3,   5,  94,  90, 113,  11,  60,   2,\n",
       "           5, 110,  11, 117, 103,  95, 115,   2, 127, 110],\n",
       "        [ 28,  91,  83,  30,  76,  75,   5, 111,  13,  72,  33,  69,  14,  39,\n",
       "          96,  59,  14,  38, 112,  47,  22,  29,  99,  62,  78,  34, 107,  85,\n",
       "          41, 124,  66,  94,  10,  83, 122, 124,  15,  50, 110,   8, 114, 118,\n",
       "          29, 101,  87,  44,  20,  95,  43,  22, 117,  16, 108,  67,  59,  31,\n",
       "          97,   9,  70,  77, 101,  10, 121, 100,   1,  45, 120,  92,  76,  72,\n",
       "          82,  98,  42,  64,  92,  87,  11,  27,  49,  57,  87,  73,  25, 115,\n",
       "          55, 121,  30, 122,  80,  52,  23,  55,   5,  56,  49,  71,  16, 124,\n",
       "          64,  30, 121,  36,  56,  80, 104,  56, 113, 116,  14,  38, 109,  18,\n",
       "          42,  54,  74,  65,  99,  12, 123,   1,  38,  13,   1,  57,  77,  51,\n",
       "          66,  63,  50,  78,  65,  46,  15, 113,  50, 122,  43,  85,  69,   0,\n",
       "         101, 116,  34,   3,  93,   3,  79,  20, 117,   0,  82,  46, 124,  34,\n",
       "          79,  69,  80,  44,  81,  65, 107,  69,  59,   8,  35,  74, 113,  32,\n",
       "           6, 102,  77,  54,  19,  35, 123,  84, 108,  80,  44, 123,  80, 122,\n",
       "         126,  90, 108,  65,  34,  93,   6,  71, 102, 108,   4, 110,  23,  11,\n",
       "           4,  66,  44,  37,  60,  62,  40,  25,  71,  96,  57,  95,  18,  51,\n",
       "          76,  95,  80,  68,  34, 127,   5,  16, 115, 112, 111, 122,  86,   3,\n",
       "          26,  48, 100,  61,  29,  96,  58,  90,  47,  94, 112,  92,  48,  84,\n",
       "          54,  26,  54, 122,  38,  84,   2,  77,  84,  15,  12,  99,  13, 102,\n",
       "          25, 111,  30, 110,  70, 110,   0,  59, 121,   6,  69, 123,  40,  40,\n",
       "          11, 124,   2,  58,  23, 119,  71,  65,   3,  90,  12, 106,  73,  82,\n",
       "         119,  64,  40,  57, 122, 108,  90,  45,  38, 108,  48,  43,  67,   5,\n",
       "          72, 116, 125,  79,   4,  55, 125,  96, 112, 118,  73,  45,  85,  46,\n",
       "          82, 121, 122, 117,  37,  33,  82, 110,  15,  92,  78,  18,  65,   5,\n",
       "         127,   9,  52,  25,  42,  85,  59,  63, 123,  88,   3,  95,   2, 104,\n",
       "          10, 113,  47, 106,  78,  90,  76,  77,  86,  54, 111, 105,  73, 100,\n",
       "          13,  41,  29,  32,  61, 113,  98,  19,  53, 118,   5, 127,   1,  47,\n",
       "          71,  99,  36,  22,  96,  99,  51,  61,  90,  10,  67,  18, 115,   2,\n",
       "          78,  14,  56,  56,  47, 103,  92,  27,  20,  68,  20,  50, 105, 100,\n",
       "          31,  13,  63,  52,  62, 118, 126,  66,  64,  91,  61,  71,  26,  63,\n",
       "          30,  71,  29,  56,  83,  21,  74,  89,   9, 105,   9,  91,  59, 105,\n",
       "          56, 105,  29, 111,  86,  33,   7,  79,  64, 100, 114,  77,  59,   9,\n",
       "          17,  95,  89,  18, 121,  87, 113,  52,  11,  58, 120,  42,  71,  64,\n",
       "         101,   2,  94,  50,  22,   5,  39,  46,  15,  49,  38,  24, 119,  71,\n",
       "         116,  36,  55,  10,   8,  50,  25,  26,  97, 108,  39, 113,   3,  42,\n",
       "         105,  45,  85,  88,  74, 124, 112,  11, 120, 109,  19, 122,  31,  84,\n",
       "          50,  17, 113,  87,  23,  14,  31, 101,  93,  12]], device='cuda:0')"
      ]
     },
     "execution_count": 11,
     "metadata": {},
     "output_type": "execute_result"
    }
   ],
   "source": [
    "_[1]"
   ]
  },
  {
   "cell_type": "code",
   "execution_count": null,
   "metadata": {},
   "outputs": [],
   "source": []
  }
 ],
 "metadata": {
  "kernelspec": {
   "display_name": "clort",
   "language": "python",
   "name": "python3"
  },
  "language_info": {
   "codemirror_mode": {
    "name": "ipython",
    "version": 3
   },
   "file_extension": ".py",
   "mimetype": "text/x-python",
   "name": "python",
   "nbconvert_exporter": "python",
   "pygments_lexer": "ipython3",
   "version": "3.10.6"
  },
  "orig_nbformat": 4
 },
 "nbformat": 4,
 "nbformat_minor": 2
}
