{
 "cells": [
  {
   "cell_type": "code",
   "execution_count": 1,
   "id": "54209ca3",
   "metadata": {},
   "outputs": [],
   "source": [
    "import torch\n",
    "\n",
    "from torchsummary import summary\n",
    "\n",
    "from moduleZoo.resblocks import Conv2DResidualBlock"
   ]
  },
  {
   "cell_type": "code",
   "execution_count": 4,
   "id": "ebffc203",
   "metadata": {},
   "outputs": [
    {
     "data": {
      "text/plain": [
       "Conv2DResidualBlock(\n",
       "  (conv1): Conv2DNormActivation(\n",
       "    (0): Conv2d(3, 24, kernel_size=(3, 3), stride=(2, 2), padding=(1, 1))\n",
       "    (1): ReLU6()\n",
       "  )\n",
       "  (conv2): Conv2DNormActivation(\n",
       "    (0): Conv2d(24, 24, kernel_size=(3, 3), stride=(1, 1), padding=same, bias=False)\n",
       "  )\n",
       "  (projection): Conv2DNormActivation(\n",
       "    (0): Conv2d(3, 24, kernel_size=(1, 1), stride=(2, 2), bias=False)\n",
       "  )\n",
       ")"
      ]
     },
     "execution_count": 4,
     "metadata": {},
     "output_type": "execute_result"
    }
   ],
   "source": [
    "res_blc = Conv2DResidualBlock(3, 24, stride=2)\n",
    "res_blc.cuda()"
   ]
  },
  {
   "cell_type": "code",
   "execution_count": 5,
   "id": "b191db73",
   "metadata": {},
   "outputs": [
    {
     "name": "stdout",
     "output_type": "stream",
     "text": [
      "----------------------------------------------------------------\n",
      "        Layer (type)               Output Shape         Param #\n",
      "================================================================\n",
      "            Conv2d-1         [-1, 24, 128, 128]             672\n",
      "             ReLU6-2         [-1, 24, 128, 128]               0\n",
      "            Conv2d-3         [-1, 24, 128, 128]           5,184\n",
      "            Conv2d-4         [-1, 24, 128, 128]              72\n",
      "================================================================\n",
      "Total params: 5,928\n",
      "Trainable params: 5,928\n",
      "Non-trainable params: 0\n",
      "----------------------------------------------------------------\n",
      "Input size (MB): 0.75\n",
      "Forward/backward pass size (MB): 12.00\n",
      "Params size (MB): 0.02\n",
      "Estimated Total Size (MB): 12.77\n",
      "----------------------------------------------------------------\n"
     ]
    }
   ],
   "source": [
    "summary(res_blc, (3, 256, 256))"
   ]
  },
  {
   "cell_type": "code",
   "execution_count": 6,
   "id": "49c45938",
   "metadata": {},
   "outputs": [],
   "source": [
    "from moduleZoo.dense import LinearNormActivation\n",
    "import torch.nn as nn\n",
    "import torch"
   ]
  },
  {
   "cell_type": "code",
   "execution_count": 4,
   "id": "d6ffbe23",
   "metadata": {},
   "outputs": [],
   "source": [
    "module = LinearNormActivation(128, 256, norm_layer=nn.BatchNorm1d, activation_layer=nn.Tanh)"
   ]
  },
  {
   "cell_type": "code",
   "execution_count": 10,
   "id": "fc9438b8",
   "metadata": {},
   "outputs": [],
   "source": [
    "data = torch.rand((100, 100, 128))\n",
    "data2 = data.flatten(0, -2)"
   ]
  },
  {
   "cell_type": "code",
   "execution_count": 11,
   "id": "1119a3f9",
   "metadata": {},
   "outputs": [],
   "source": [
    "res1 = module(data)\n",
    "res2 = module(data2)"
   ]
  },
  {
   "cell_type": "code",
   "execution_count": 12,
   "id": "f88f84e8",
   "metadata": {},
   "outputs": [
    {
     "data": {
      "text/plain": [
       "tensor(True)"
      ]
     },
     "execution_count": 12,
     "metadata": {},
     "output_type": "execute_result"
    }
   ],
   "source": [
    "torch.all(res1.flatten(0, -2) == res2)"
   ]
  },
  {
   "cell_type": "code",
   "execution_count": null,
   "id": "1f825ae5",
   "metadata": {},
   "outputs": [],
   "source": []
  }
 ],
 "metadata": {
  "kernelspec": {
   "display_name": "Python 3 (ipykernel)",
   "language": "python",
   "name": "python3"
  },
  "language_info": {
   "codemirror_mode": {
    "name": "ipython",
    "version": 3
   },
   "file_extension": ".py",
   "mimetype": "text/x-python",
   "name": "python",
   "nbconvert_exporter": "python",
   "pygments_lexer": "ipython3",
   "version": "3.10.6"
  }
 },
 "nbformat": 4,
 "nbformat_minor": 5
}
