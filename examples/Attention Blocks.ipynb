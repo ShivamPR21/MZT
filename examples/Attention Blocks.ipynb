{
 "cells": [
  {
   "cell_type": "code",
   "execution_count": 6,
   "id": "24f23c4c",
   "metadata": {},
   "outputs": [],
   "source": [
    "import torch\n",
    "\n",
    "from moduleZoo.attention import MultiHeadSelfAttention2d, MultiHeadSelfAttention1d"
   ]
  },
  {
   "cell_type": "markdown",
   "id": "00d0411e",
   "metadata": {},
   "source": [
    "## MultiHeadSelfAttention2d"
   ]
  },
  {
   "cell_type": "code",
   "execution_count": 7,
   "id": "045bb526",
   "metadata": {},
   "outputs": [],
   "source": [
    "x = torch.rand(5, 128, 64, 64)"
   ]
  },
  {
   "cell_type": "code",
   "execution_count": 8,
   "id": "2bc21642",
   "metadata": {},
   "outputs": [
    {
     "data": {
      "text/plain": [
       "MultiHeadSelfAttention2d(\n",
       "  (query_conv): ConvNormActivation2d(\n",
       "    (0): Conv2d(128, 512, kernel_size=(3, 3), stride=(1, 1), padding=same)\n",
       "  )\n",
       "  (key_conv): ConvNormActivation2d(\n",
       "    (0): Conv2d(128, 512, kernel_size=(3, 3), stride=(1, 1), padding=same)\n",
       "  )\n",
       "  (value_conv): ConvNormActivation2d(\n",
       "    (0): Conv2d(128, 512, kernel_size=(3, 3), stride=(1, 1), padding=same)\n",
       "  )\n",
       "  (projection): ConvNormActivation2d(\n",
       "    (0): Conv2d(128, 128, kernel_size=(1, 1), stride=(1, 1), bias=False)\n",
       "  )\n",
       "  (softmax): Softmax(dim=-1)\n",
       ")"
      ]
     },
     "execution_count": 8,
     "metadata": {},
     "output_type": "execute_result"
    }
   ],
   "source": [
    "model = MultiHeadSelfAttention2d(128, n_heads=4, kernel_size=3)\n",
    "model"
   ]
  },
  {
   "cell_type": "code",
   "execution_count": 9,
   "id": "765904df",
   "metadata": {},
   "outputs": [],
   "source": [
    "out = model(x)"
   ]
  },
  {
   "cell_type": "markdown",
   "id": "416819cc",
   "metadata": {},
   "source": [
    "## MultiHeadSelfAttention1d"
   ]
  },
  {
   "cell_type": "code",
   "execution_count": 10,
   "id": "157ab4ad",
   "metadata": {},
   "outputs": [],
   "source": [
    "x = torch.rand(5, 128, 64)"
   ]
  },
  {
   "cell_type": "code",
   "execution_count": 11,
   "id": "bb1fd249",
   "metadata": {},
   "outputs": [
    {
     "data": {
      "text/plain": [
       "MultiHeadSelfAttention1d(\n",
       "  (query_conv): ConvNormActivation1d(\n",
       "    (0): Conv1d(128, 512, kernel_size=(3,), stride=(1,), padding=same)\n",
       "  )\n",
       "  (key_conv): ConvNormActivation1d(\n",
       "    (0): Conv1d(128, 512, kernel_size=(3,), stride=(1,), padding=same)\n",
       "  )\n",
       "  (value_conv): ConvNormActivation1d(\n",
       "    (0): Conv1d(128, 512, kernel_size=(3,), stride=(1,), padding=same)\n",
       "  )\n",
       "  (projection): ConvNormActivation1d(\n",
       "    (0): Conv1d(128, 128, kernel_size=(1,), stride=(1,), bias=False)\n",
       "  )\n",
       "  (softmax): Softmax(dim=-1)\n",
       ")"
      ]
     },
     "execution_count": 11,
     "metadata": {},
     "output_type": "execute_result"
    }
   ],
   "source": [
    "model = MultiHeadSelfAttention1d(128, n_heads=4, kernel_size=3)\n",
    "model"
   ]
  },
  {
   "cell_type": "code",
   "execution_count": 12,
   "id": "2936271e",
   "metadata": {},
   "outputs": [],
   "source": [
    "out = model(x)"
   ]
  },
  {
   "cell_type": "code",
   "execution_count": null,
   "id": "af5be938",
   "metadata": {},
   "outputs": [],
   "source": []
  }
 ],
 "metadata": {
  "kernelspec": {
   "display_name": "Python 3 (ipykernel)",
   "language": "python",
   "name": "python3"
  },
  "language_info": {
   "codemirror_mode": {
    "name": "ipython",
    "version": 3
   },
   "file_extension": ".py",
   "mimetype": "text/x-python",
   "name": "python",
   "nbconvert_exporter": "python",
   "pygments_lexer": "ipython3",
   "version": "3.8.10"
  }
 },
 "nbformat": 4,
 "nbformat_minor": 5
}
