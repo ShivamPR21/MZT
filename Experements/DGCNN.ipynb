{
 "cells": [
  {
   "cell_type": "code",
   "execution_count": 1,
   "id": "cbb1f3da",
   "metadata": {},
   "outputs": [],
   "source": [
    "import torch\n",
    "import torch.nn as nn"
   ]
  },
  {
   "cell_type": "code",
   "execution_count": 2,
   "id": "e4699e27",
   "metadata": {},
   "outputs": [],
   "source": [
    "x = torch.rand(5, 3, 30)"
   ]
  },
  {
   "cell_type": "code",
   "execution_count": 3,
   "id": "934e5920",
   "metadata": {},
   "outputs": [],
   "source": [
    "from moduleZoo.graphs import GraphConv2d\n",
    "from modelZoo.graphs import DGCNN"
   ]
  },
  {
   "cell_type": "code",
   "execution_count": 4,
   "id": "0da36247",
   "metadata": {},
   "outputs": [
    {
     "data": {
      "text/plain": [
       "DGCNN(\n",
       "  (layers): ModuleList(\n",
       "    (0): GraphConv2d(\n",
       "      (conv): ConvNormActivation2d(\n",
       "        (0): Conv2d(6, 32, kernel_size=(1, 1), stride=(1, 1))\n",
       "        (1): SELU()\n",
       "      )\n",
       "    )\n",
       "    (1): GraphConv2d(\n",
       "      (conv): ConvNormActivation2d(\n",
       "        (0): Conv2d(64, 64, kernel_size=(1, 1), stride=(1, 1))\n",
       "        (1): SELU()\n",
       "      )\n",
       "    )\n",
       "    (2): GraphConv2d(\n",
       "      (conv): ConvNormActivation2d(\n",
       "        (0): Conv2d(128, 128, kernel_size=(1, 1), stride=(1, 1))\n",
       "        (1): BatchNorm2d(128, eps=1e-05, momentum=0.1, affine=True, track_running_stats=True)\n",
       "        (2): SELU()\n",
       "      )\n",
       "    )\n",
       "    (3): GraphConv2d(\n",
       "      (conv): ConvNormActivation2d(\n",
       "        (0): Conv2d(256, 256, kernel_size=(1, 1), stride=(1, 1))\n",
       "        (1): SELU()\n",
       "      )\n",
       "    )\n",
       "    (4): GraphConv2d(\n",
       "      (conv): ConvNormActivation2d(\n",
       "        (0): Conv2d(512, 512, kernel_size=(1, 1), stride=(1, 1))\n",
       "        (1): SELU()\n",
       "      )\n",
       "    )\n",
       "  )\n",
       ")"
      ]
     },
     "execution_count": 4,
     "metadata": {},
     "output_type": "execute_result"
    }
   ],
   "source": [
    "model = DGCNN(30)\n",
    "model"
   ]
  },
  {
   "cell_type": "code",
   "execution_count": 5,
   "id": "a4d825df",
   "metadata": {},
   "outputs": [],
   "source": [
    "out = model(x)"
   ]
  },
  {
   "cell_type": "code",
   "execution_count": 6,
   "id": "dc04f1f3",
   "metadata": {},
   "outputs": [
    {
     "data": {
      "text/plain": [
       "torch.Size([5, 992, 30])"
      ]
     },
     "execution_count": 6,
     "metadata": {},
     "output_type": "execute_result"
    }
   ],
   "source": [
    "out.shape"
   ]
  },
  {
   "cell_type": "code",
   "execution_count": 7,
   "id": "c8fb308f",
   "metadata": {},
   "outputs": [],
   "source": [
    "from torchviz import make_dot"
   ]
  },
  {
   "cell_type": "code",
   "execution_count": 8,
   "id": "faa45483",
   "metadata": {
    "scrolled": false
   },
   "outputs": [],
   "source": [
    "fig = make_dot(out, params=dict(list(model.named_parameters())))"
   ]
  },
  {
   "cell_type": "code",
   "execution_count": 9,
   "id": "5e9bccd8",
   "metadata": {},
   "outputs": [
    {
     "data": {
      "text/plain": [
       "'fig.pdf'"
      ]
     },
     "execution_count": 9,
     "metadata": {},
     "output_type": "execute_result"
    }
   ],
   "source": [
    "fig.render(\"fig\", format=\"pdf\")"
   ]
  },
  {
   "cell_type": "code",
   "execution_count": null,
   "id": "9b78375c",
   "metadata": {},
   "outputs": [],
   "source": []
  }
 ],
 "metadata": {
  "kernelspec": {
   "display_name": "Python 3 (ipykernel)",
   "language": "python",
   "name": "python3"
  },
  "language_info": {
   "codemirror_mode": {
    "name": "ipython",
    "version": 3
   },
   "file_extension": ".py",
   "mimetype": "text/x-python",
   "name": "python",
   "nbconvert_exporter": "python",
   "pygments_lexer": "ipython3",
   "version": "3.8.10"
  }
 },
 "nbformat": 4,
 "nbformat_minor": 5
}
